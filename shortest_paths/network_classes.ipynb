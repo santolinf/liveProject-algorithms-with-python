{
 "cells": [
  {
   "cell_type": "code",
   "execution_count": 141,
   "outputs": [],
   "source": [
    "import re"
   ],
   "metadata": {
    "collapsed": false,
    "ExecuteTime": {
     "end_time": "2023-08-22T14:05:11.472296Z",
     "start_time": "2023-08-22T14:05:11.471261200Z"
    }
   },
   "id": "cd391f8743d23817"
  },
  {
   "cell_type": "code",
   "execution_count": 142,
   "id": "initial_id",
   "metadata": {
    "collapsed": true,
    "ExecuteTime": {
     "end_time": "2023-08-22T14:05:11.518770Z",
     "start_time": "2023-08-22T14:05:11.472296Z"
    }
   },
   "outputs": [],
   "source": [
    "class Node:\n",
    "    def __init__(self, network, x, y, text):\n",
    "        self.index = -1\n",
    "        self.network = network\n",
    "        self.x = x\n",
    "        self.y = y\n",
    "        self.text = text\n",
    "        self.links = []\n",
    "        \n",
    "        self.network.add_node(self)\n",
    "        \n",
    "    def __str__(self):\n",
    "        return f\"[{self.text}]\"\n",
    "    \n",
    "    def add_link(self, link):\n",
    "        self.links.append(link)\n",
    "\n",
    "class Link:\n",
    "    def __init__(self, network, from_node, to_node, cost):\n",
    "        self.network = network\n",
    "        self.from_node = from_node\n",
    "        self.to_node = to_node\n",
    "        self.cost = cost\n",
    "    \n",
    "        self.network.add_link(self)\n",
    "        self.from_node.add_link(self)\n",
    "        \n",
    "    def __str__(self):\n",
    "        return f\"[{self.from_node.text}] --> [{self.to_node.text}] ({self.cost})\"\n",
    "\n",
    "class Network:\n",
    "    def __init__(self):\n",
    "        self.clear()\n",
    "    \n",
    "    def clear(self):\n",
    "        self.nodes = []\n",
    "        self.links = []\n",
    "        \n",
    "    def add_node(self, node: Node):\n",
    "        node.index = len(self.nodes)\n",
    "        self.nodes.append(node)\n",
    "        \n",
    "    def add_link(self, link: Link):\n",
    "        self.links.append(link)\n",
    "        \n",
    "    def to_string(self):\n",
    "        return (\n",
    "            \"{} # Num nodes.\".format(len(self.nodes)) +\n",
    "            \"\\n{} # Num links.\".format(len(self.links)) +\n",
    "            \"\\n# Nodes.\" +\n",
    "            \"\\n{}\".format('\\n'.join([f\"{n.x},{n.y},{n.text}\" for n in self.nodes])) +\n",
    "            \"\\n# Links.\" +\n",
    "            \"\\n{}\".format('\\n'.join([f\"{l.from_node.index},{l.to_node.index},{l.cost}\" for l in self.links]))\n",
    "        )\n",
    "    \n",
    "    def save_into_file(self, file_name):\n",
    "        open(file_name, 'w').write(self.to_string())\n",
    "    \n",
    "    @staticmethod\n",
    "    def read_next_line(file_handle):\n",
    "        while line := file_handle.readline():\n",
    "            pattern = re.compile('([^#]*)(#.*)?$')\n",
    "            matcher = pattern.match(line)\n",
    "            line = matcher.group(1).strip() if matcher else None\n",
    "            if line:\n",
    "                return line \n",
    "        return None\n",
    "    \n",
    "    def load_from_file(self, file_name):\n",
    "        self.clear()\n",
    "        \n",
    "        with open(file_name, 'r') as file_handle:\n",
    "            num_nodes = int(self.read_next_line(file_handle))\n",
    "            num_links = int(self.read_next_line(file_handle))\n",
    "            # get nodes\n",
    "            while num_nodes > 0 and (line := self.read_next_line(file_handle)):\n",
    "                num_nodes -= 1\n",
    "                if m := re.match(r'(\\d+),(\\d+),(.*)', line):\n",
    "                    x = int(m.group(1))\n",
    "                    y = int(m.group(2))\n",
    "                    text = m.group(3)\n",
    "                    Node(self, x, y, text)\n",
    "            # get links\n",
    "            while num_links > 0 and (line := self.read_next_line(file_handle)):\n",
    "                num_links -= 1\n",
    "                if m := re.match(r'(\\d+),(\\d+),(\\d+)', line):\n",
    "                    from_node_idx = int(m.group(1))\n",
    "                    to_node_idx = int(m.group(2))\n",
    "                    cost = int(m.group(3))\n",
    "                    Link(self, self.nodes[from_node_idx], self.nodes[to_node_idx], cost)\n"
   ]
  },
  {
   "cell_type": "code",
   "execution_count": 143,
   "outputs": [],
   "source": [
    "def make_test_network(file_name):\n",
    "    # Build a tiny test network.\n",
    "    network = Network()\n",
    "    a = Node(network,  20,  20, 'A')\n",
    "    b = Node(network, 120, 120, 'B')\n",
    "    \n",
    "    link_a_b = Link(network, a, b, 10)\n",
    "    \n",
    "    # Save into a test file.\n",
    "    network.save_into_file(file_name)\n"
   ],
   "metadata": {
    "collapsed": false,
    "ExecuteTime": {
     "end_time": "2023-08-22T14:05:11.518770Z",
     "start_time": "2023-08-22T14:05:11.502728900Z"
    }
   },
   "id": "6afc0b22c6d8e8a"
  },
  {
   "cell_type": "code",
   "execution_count": 144,
   "outputs": [],
   "source": [
    "file_name = '3nodes.net'\n",
    "make_test_network(file_name)\n",
    "\n",
    "network = Network()\n",
    "network.load_from_file(file_name)\n",
    "\n",
    "network.save_into_file('copy_of_3nodes.net')\n"
   ],
   "metadata": {
    "collapsed": false,
    "ExecuteTime": {
     "end_time": "2023-08-22T14:05:11.533972400Z",
     "start_time": "2023-08-22T14:05:11.518770Z"
    }
   },
   "id": "179b9727d639b82c"
  }
 ],
 "metadata": {
  "kernelspec": {
   "display_name": "Python 3",
   "language": "python",
   "name": "python3"
  },
  "language_info": {
   "codemirror_mode": {
    "name": "ipython",
    "version": 2
   },
   "file_extension": ".py",
   "mimetype": "text/x-python",
   "name": "python",
   "nbconvert_exporter": "python",
   "pygments_lexer": "ipython2",
   "version": "2.7.6"
  }
 },
 "nbformat": 4,
 "nbformat_minor": 5
}
