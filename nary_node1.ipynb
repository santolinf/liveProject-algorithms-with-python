{
 "cells": [
  {
   "cell_type": "code",
   "execution_count": 2,
   "id": "initial_id",
   "metadata": {
    "collapsed": true,
    "ExecuteTime": {
     "end_time": "2023-08-09T16:08:05.952979300Z",
     "start_time": "2023-08-09T16:08:05.937352200Z"
    }
   },
   "outputs": [],
   "source": [
    "class NaryNode:\n",
    "    def __init__(self, value=''):\n",
    "        self.value = value\n",
    "        self.children = []\n",
    "\n",
    "    def __str__(self):\n",
    "        return f\"{self.value}: {' '.join([child.value for child in self.children])}\"\n",
    "\n",
    "    def add_child(self, child):\n",
    "        self.children.append(child)\n"
   ]
  },
  {
   "cell_type": "code",
   "execution_count": 3,
   "outputs": [
    {
     "name": "stdout",
     "output_type": "stream",
     "text": [
      "root: A B C\n",
      "A: D E\n",
      "B: \n",
      "C: F\n",
      "D: G\n",
      "E: \n",
      "F: H I\n",
      "G: \n",
      "H: \n",
      "I: \n"
     ]
    }
   ],
   "source": [
    "root = NaryNode('root')\n",
    "a = NaryNode('A')\n",
    "root.add_child(a)\n",
    "b = NaryNode('B')\n",
    "root.add_child(b)\n",
    "c = NaryNode('C')\n",
    "root.add_child(c)\n",
    "d = NaryNode('D')\n",
    "a.add_child(d)\n",
    "e = NaryNode('E')\n",
    "a.add_child(e)\n",
    "f = NaryNode('F')\n",
    "c.add_child(f)\n",
    "g = NaryNode('G')\n",
    "d.add_child(g)\n",
    "h = NaryNode('H')\n",
    "f.add_child(h)\n",
    "i = NaryNode('I')\n",
    "f.add_child(i)\n",
    "\n",
    "print(root)\n",
    "print(a)\n",
    "print(b)\n",
    "print(c)\n",
    "print(d)\n",
    "print(e)\n",
    "print(f)\n",
    "print(g)\n",
    "print(h)\n",
    "print(i)"
   ],
   "metadata": {
    "collapsed": false,
    "ExecuteTime": {
     "end_time": "2023-08-09T16:08:06.031202700Z",
     "start_time": "2023-08-09T16:08:05.952979300Z"
    }
   },
   "id": "2bfde7c433c92067"
  }
 ],
 "metadata": {
  "kernelspec": {
   "display_name": "Python 3",
   "language": "python",
   "name": "python3"
  },
  "language_info": {
   "codemirror_mode": {
    "name": "ipython",
    "version": 2
   },
   "file_extension": ".py",
   "mimetype": "text/x-python",
   "name": "python",
   "nbconvert_exporter": "python",
   "pygments_lexer": "ipython2",
   "version": "2.7.6"
  }
 },
 "nbformat": 4,
 "nbformat_minor": 5
}
