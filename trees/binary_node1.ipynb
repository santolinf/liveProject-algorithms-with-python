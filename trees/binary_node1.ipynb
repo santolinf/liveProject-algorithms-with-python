{
 "cells": [
  {
   "cell_type": "code",
   "execution_count": 7,
   "id": "initial_id",
   "metadata": {
    "collapsed": true,
    "ExecuteTime": {
     "end_time": "2023-08-09T18:59:00.477555600Z",
     "start_time": "2023-08-09T18:59:00.428342200Z"
    }
   },
   "outputs": [],
   "source": [
    "class BinaryNode:\n",
    "    def __init__(self, value=''):\n",
    "        self.value = value\n",
    "        self.left_child = None\n",
    "        self.right_child = None\n",
    "\n",
    "    def __str__(self):\n",
    "        return \" \".join(f\"\"\"\n",
    "        {self.value}:\n",
    "        {self.left_child.value if self.left_child else 'None'}\n",
    "        {self.right_child.value if self.right_child else 'None'}\n",
    "        \"\"\".split())\n",
    "\n",
    "    def add_left(self, child):\n",
    "        self.left_child = child\n",
    "\n",
    "    def add_right(self, child):\n",
    "        self.right_child = child\n"
   ]
  },
  {
   "cell_type": "code",
   "execution_count": 8,
   "outputs": [
    {
     "name": "stdout",
     "output_type": "stream",
     "text": [
      "root: A B\n",
      "A: C D\n",
      "B: None E\n",
      "C: None None\n",
      "D: None None\n",
      "E: F None\n",
      "F: None None\n"
     ]
    }
   ],
   "source": [
    "root = BinaryNode('root')\n",
    "a = BinaryNode('A')\n",
    "root.add_left(a)\n",
    "b = BinaryNode('B')\n",
    "root.add_right(b)\n",
    "c = BinaryNode('C')\n",
    "a.add_left(c)\n",
    "d = BinaryNode('D')\n",
    "a.add_right(d)\n",
    "e = BinaryNode('E')\n",
    "b.add_right(e)\n",
    "f = BinaryNode('F')\n",
    "e.add_left(f)\n",
    "\n",
    "print(root)\n",
    "print(a)\n",
    "print(b)\n",
    "print(c)\n",
    "print(d)\n",
    "print(e)\n",
    "print(f)"
   ],
   "metadata": {
    "collapsed": false,
    "ExecuteTime": {
     "end_time": "2023-08-09T18:59:00.516618200Z",
     "start_time": "2023-08-09T18:59:00.478650800Z"
    }
   },
   "id": "9caca8f0f0696839"
  }
 ],
 "metadata": {
  "kernelspec": {
   "display_name": "Python 3",
   "language": "python",
   "name": "python3"
  },
  "language_info": {
   "codemirror_mode": {
    "name": "ipython",
    "version": 2
   },
   "file_extension": ".py",
   "mimetype": "text/x-python",
   "name": "python",
   "nbconvert_exporter": "python",
   "pygments_lexer": "ipython2",
   "version": "2.7.6"
  }
 },
 "nbformat": 4,
 "nbformat_minor": 5
}
