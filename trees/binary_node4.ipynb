{
 "cells": [
  {
   "cell_type": "code",
   "execution_count": 25,
   "id": "initial_id",
   "metadata": {
    "collapsed": true,
    "ExecuteTime": {
     "end_time": "2023-08-11T17:25:29.112981800Z",
     "start_time": "2023-08-11T17:25:29.050478400Z"
    }
   },
   "outputs": [],
   "source": [
    "class BinaryNode:\n",
    "    indent_placeholder = '  '\n",
    "    \n",
    "    def __init__(self, value=''):\n",
    "        self.value = value\n",
    "        self.left_child = None\n",
    "        self.right_child = None\n",
    "\n",
    "    def __str__(self, level=0):\n",
    "        return (\n",
    "            f\"{self._indent_node(self.value, level=level)}:\\n\"\n",
    "            f\"{self.left_child.__str__(level=level+1) if self.left_child else self._indent_missing_child_node('None', level=level+1)}\"\n",
    "            f\"{self.right_child.__str__(level=level+1) if self.right_child else self._indent_missing_child_node('None', level=level+1)}\"\n",
    "        )\n",
    "\n",
    "    def _indent_missing_child_node(self, value='', level=0):\n",
    "        \"\"\"\n",
    "        Prepares a string indented to reflect the level of the empty child of the current node. \n",
    "        :param value: the text, if available, to include after the indentation \n",
    "        :param level: an integer to reflect the level (or depth) in the tree and the indentation required for the node\n",
    "        :return: string containing enough indentation chars (usually spaces) followed by a text value if available\n",
    "        \"\"\"\n",
    "        return self._indent_node(value + '\\n', level=level) if self.left_child or self.right_child else ''\n",
    "\n",
    "    @classmethod\n",
    "    def _indent_node(cls, value='', level=0):\n",
    "        \"\"\"\n",
    "        Prepares a string indented to reflect the level of the current node in the tree. \n",
    "        :param value: the text, if available, to include after the indentation\n",
    "        :param level: an integer to reflect the level (or depth) in the tree and the indentation required for the node\n",
    "        :return: string containing enough indentation chars (usually spaces) followed by a text value if available\n",
    "        \"\"\"\n",
    "        return \"\".join([cls.indent_placeholder for _ in range(0, level)]) + value\n",
    "\n",
    "    def add_left(self, child):\n",
    "        self.left_child = child\n",
    "\n",
    "    def add_right(self, child):\n",
    "        self.right_child = child\n",
    "        \n",
    "    def find_node(self, value):\n",
    "        \"\"\"\n",
    "        Return the (first) node that has the corresponding value, starting from the current node\n",
    "        and then traversing child nodes.\n",
    "        :param value: the value to compare against each node\n",
    "        :return: the node that matches the given value\n",
    "        \"\"\"\n",
    "        if self.value == value:\n",
    "            return self\n",
    "        \n",
    "        for child in [self.left_child, self.right_child]:\n",
    "            node = child.find_node(value) if child else None\n",
    "            if node:\n",
    "                return node\n",
    "        return None\n",
    "\n",
    "    def traverse_preorder(self):\n",
    "        nodes = [self]\n",
    "        if self.left_child:\n",
    "            nodes.extend(self.left_child.traverse_preorder())\n",
    "        if self.right_child:\n",
    "            nodes.extend(self.right_child.traverse_preorder())\n",
    "        return nodes\n",
    "    \n",
    "    def traverse_inorder(self):\n",
    "        nodes = self.left_child.traverse_inorder() if self.left_child else []\n",
    "        nodes.extend([self])\n",
    "        if self.right_child:\n",
    "            nodes.extend(self.right_child.traverse_inorder())\n",
    "        return nodes\n",
    "    \n",
    "    def traverse_postorder(self):\n",
    "        nodes = self.left_child.traverse_postorder() if self.left_child else []\n",
    "        if self.right_child:\n",
    "            nodes.extend(self.right_child.traverse_postorder())\n",
    "        nodes.extend([self])\n",
    "        return nodes\n",
    "    \n",
    "    def traverse_breadth_first(self):\n",
    "        result = []\n",
    "        queue = [self]\n",
    "        \n",
    "        while queue:\n",
    "            node = queue.pop(0)\n",
    "            result.append(node)\n",
    "            \n",
    "            for c in [node.left_child, node.right_child]:\n",
    "                queue.append(c) if c else None\n",
    "        \n",
    "        return result\n",
    "            "
   ]
  },
  {
   "cell_type": "code",
   "execution_count": 26,
   "outputs": [],
   "source": [
    "def find_value(node, value):\n",
    "    found = node.find_node(value)\n",
    "    print(f\"Found {found.value}\" if found else f\"Value {value} not found\")\n"
   ],
   "metadata": {
    "collapsed": false,
    "ExecuteTime": {
     "end_time": "2023-08-11T17:25:29.112981800Z",
     "start_time": "2023-08-11T17:25:29.066117700Z"
    }
   },
   "id": "9e39461d4bcaaf0b"
  },
  {
   "cell_type": "code",
   "execution_count": 27,
   "outputs": [
    {
     "name": "stdout",
     "output_type": "stream",
     "text": [
      "Root:\n",
      "  A:\n",
      "    C:\n",
      "    D:\n",
      "  B:\n",
      "    None\n",
      "    E:\n",
      "      F:\n",
      "      None\n"
     ]
    }
   ],
   "source": [
    "root = BinaryNode('Root')\n",
    "a = BinaryNode('A')\n",
    "root.add_left(a)\n",
    "b = BinaryNode('B')\n",
    "root.add_right(b)\n",
    "c = BinaryNode('C')\n",
    "a.add_left(c)\n",
    "d = BinaryNode('D')\n",
    "a.add_right(d)\n",
    "e = BinaryNode('E')\n",
    "b.add_right(e)\n",
    "f = BinaryNode('F')\n",
    "e.add_left(f)\n",
    "\n",
    "print(root)\n"
   ],
   "metadata": {
    "collapsed": false,
    "ExecuteTime": {
     "end_time": "2023-08-11T17:25:29.112981800Z",
     "start_time": "2023-08-11T17:25:29.081731800Z"
    }
   },
   "id": "9caca8f0f0696839"
  },
  {
   "cell_type": "code",
   "execution_count": 28,
   "outputs": [
    {
     "name": "stdout",
     "output_type": "stream",
     "text": [
      "A:\n",
      "  C:\n",
      "  D:\n"
     ]
    }
   ],
   "source": [
    "print(a)"
   ],
   "metadata": {
    "collapsed": false,
    "ExecuteTime": {
     "end_time": "2023-08-11T17:25:29.112981800Z",
     "start_time": "2023-08-11T17:25:29.097356300Z"
    }
   },
   "id": "c4dbbb501a52f5ee"
  },
  {
   "cell_type": "code",
   "execution_count": 29,
   "outputs": [
    {
     "name": "stdout",
     "output_type": "stream",
     "text": [
      "Found Root\n",
      "Found E\n",
      "Found F\n",
      "Value Q not found\n",
      "Found F\n"
     ]
    }
   ],
   "source": [
    "# Find some values.\n",
    "find_value(root, 'Root')\n",
    "find_value(root, 'E')\n",
    "find_value(root, 'F')\n",
    "find_value(root, 'Q')\n",
    "\n",
    "# Find F in the B subtree.\n",
    "find_value(b, 'F')\n"
   ],
   "metadata": {
    "collapsed": false,
    "ExecuteTime": {
     "end_time": "2023-08-11T17:25:29.144230400Z",
     "start_time": "2023-08-11T17:25:29.112981800Z"
    }
   },
   "id": "734a7104cff01b4f"
  },
  {
   "cell_type": "code",
   "execution_count": 30,
   "outputs": [
    {
     "name": "stdout",
     "output_type": "stream",
     "text": [
      "Preorder:      Root A C D B E F \n",
      "Inorder:       C A D Root B F E \n",
      "Postorder:     C D A F E B Root \n",
      "Breadth-First: Root A B C D E F \n"
     ]
    }
   ],
   "source": [
    "print('Preorder:      ', end='')\n",
    "for node in root.traverse_preorder():\n",
    "  print(f'{node.value} ', end='')\n",
    "print()\n",
    "print('Inorder:       ', end='')\n",
    "for node in root.traverse_inorder():\n",
    "  print(f'{node.value} ', end='')\n",
    "print()\n",
    "print('Postorder:     ', end='')\n",
    "for node in root.traverse_postorder():\n",
    "  print(f'{node.value} ', end='')\n",
    "print()\n",
    "print('Breadth-First: ', end='')\n",
    "for node in root.traverse_breadth_first():\n",
    "  print(f'{node.value} ', end='')\n",
    "print()"
   ],
   "metadata": {
    "collapsed": false,
    "ExecuteTime": {
     "end_time": "2023-08-11T17:25:29.222428100Z",
     "start_time": "2023-08-11T17:25:29.129070300Z"
    }
   },
   "id": "9ba5025d24f0ac6b"
  }
 ],
 "metadata": {
  "kernelspec": {
   "display_name": "Python 3",
   "language": "python",
   "name": "python3"
  },
  "language_info": {
   "codemirror_mode": {
    "name": "ipython",
    "version": 2
   },
   "file_extension": ".py",
   "mimetype": "text/x-python",
   "name": "python",
   "nbconvert_exporter": "python",
   "pygments_lexer": "ipython2",
   "version": "2.7.6"
  }
 },
 "nbformat": 4,
 "nbformat_minor": 5
}
