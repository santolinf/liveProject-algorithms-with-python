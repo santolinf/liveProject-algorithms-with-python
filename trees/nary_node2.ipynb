{
 "cells": [
  {
   "cell_type": "code",
   "execution_count": 16,
   "id": "initial_id",
   "metadata": {
    "collapsed": true,
    "ExecuteTime": {
     "end_time": "2023-08-11T11:18:47.681930500Z",
     "start_time": "2023-08-11T11:18:47.638796500Z"
    }
   },
   "outputs": [],
   "source": [
    "class NaryNode:\n",
    "    indent_placeholder = '  '\n",
    "\n",
    "    def __init__(self, value=''):\n",
    "        self.value = value\n",
    "        self.children = []\n",
    "\n",
    "    def __str__(self, level=0):\n",
    "        return (\n",
    "            f\"{self._indent_node(self.value, level=level)}:\\n\"\n",
    "            f\"{''.join([child.__str__(level=level+1) for child in self.children])}\"\n",
    "        )\n",
    "\n",
    "    @classmethod\n",
    "    def _indent_node(cls, value='', level=0):\n",
    "        \"\"\"\n",
    "        Prepares a string indented to reflect the level of the empty child of the current node. \n",
    "        :param value: the text, if available, to include after the indentation \n",
    "        :param level: an integer to reflect the level (or depth) in the tree and the indentation required for the node\n",
    "        :return: string containing enough indentation chars (usually spaces) followed by a text value if available\n",
    "        \"\"\"\n",
    "        return \"\".join([cls.indent_placeholder for _ in range(0, level)]) + value\n",
    "\n",
    "    def add_child(self, child):\n",
    "        self.children.append(child)\n"
   ]
  },
  {
   "cell_type": "code",
   "execution_count": 17,
   "outputs": [
    {
     "name": "stdout",
     "output_type": "stream",
     "text": [
      "root:\n",
      "  A:\n",
      "    D:\n",
      "      G:\n",
      "    E:\n",
      "  B:\n",
      "  C:\n",
      "    F:\n",
      "      H:\n",
      "      I:\n"
     ]
    }
   ],
   "source": [
    "root = NaryNode('root')\n",
    "a = NaryNode('A')\n",
    "root.add_child(a)\n",
    "b = NaryNode('B')\n",
    "root.add_child(b)\n",
    "c = NaryNode('C')\n",
    "root.add_child(c)\n",
    "d = NaryNode('D')\n",
    "a.add_child(d)\n",
    "e = NaryNode('E')\n",
    "a.add_child(e)\n",
    "f = NaryNode('F')\n",
    "c.add_child(f)\n",
    "g = NaryNode('G')\n",
    "d.add_child(g)\n",
    "h = NaryNode('H')\n",
    "f.add_child(h)\n",
    "i = NaryNode('I')\n",
    "f.add_child(i)\n",
    "\n",
    "print(root)\n"
   ],
   "metadata": {
    "collapsed": false,
    "ExecuteTime": {
     "end_time": "2023-08-11T11:18:47.682896200Z",
     "start_time": "2023-08-11T11:18:47.657794800Z"
    }
   },
   "id": "2bfde7c433c92067"
  },
  {
   "cell_type": "code",
   "execution_count": 18,
   "outputs": [
    {
     "name": "stdout",
     "output_type": "stream",
     "text": [
      "A:\n",
      "  D:\n",
      "    G:\n",
      "  E:\n"
     ]
    }
   ],
   "source": [
    "print(a)"
   ],
   "metadata": {
    "collapsed": false,
    "ExecuteTime": {
     "end_time": "2023-08-11T11:18:47.683893Z",
     "start_time": "2023-08-11T11:18:47.666793700Z"
    }
   },
   "id": "c8aae5e539b21ad9"
  }
 ],
 "metadata": {
  "kernelspec": {
   "display_name": "Python 3",
   "language": "python",
   "name": "python3"
  },
  "language_info": {
   "codemirror_mode": {
    "name": "ipython",
    "version": 2
   },
   "file_extension": ".py",
   "mimetype": "text/x-python",
   "name": "python",
   "nbconvert_exporter": "python",
   "pygments_lexer": "ipython2",
   "version": "2.7.6"
  }
 },
 "nbformat": 4,
 "nbformat_minor": 5
}
