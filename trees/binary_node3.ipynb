{
 "cells": [
  {
   "cell_type": "code",
   "execution_count": 118,
   "id": "initial_id",
   "metadata": {
    "collapsed": true,
    "ExecuteTime": {
     "end_time": "2023-08-11T14:44:11.919568200Z",
     "start_time": "2023-08-11T14:44:11.863078400Z"
    }
   },
   "outputs": [],
   "source": [
    "class BinaryNode:\n",
    "    indent_placeholder = '  '\n",
    "    \n",
    "    def __init__(self, value=''):\n",
    "        self.value = value\n",
    "        self.left_child = None\n",
    "        self.right_child = None\n",
    "\n",
    "    def __str__(self, level=0):\n",
    "        return (\n",
    "            f\"{self._indent_node(self.value, level=level)}:\\n\"\n",
    "            f\"{self.left_child.__str__(level=level+1) if self.left_child else self._indent_missing_child_node('None', level=level+1)}\"\n",
    "            f\"{self.right_child.__str__(level=level+1) if self.right_child else self._indent_missing_child_node('None', level=level+1)}\"\n",
    "        )\n",
    "\n",
    "    def _indent_missing_child_node(self, value='', level=0):\n",
    "        \"\"\"\n",
    "        Prepares a string indented to reflect the level of the empty child of the current node. \n",
    "        :param value: the text, if available, to include after the indentation \n",
    "        :param level: an integer to reflect the level (or depth) in the tree and the indentation required for the node\n",
    "        :return: string containing enough indentation chars (usually spaces) followed by a text value if available\n",
    "        \"\"\"\n",
    "        return self._indent_node(value + '\\n', level=level) if self.left_child or self.right_child else ''\n",
    "\n",
    "    @classmethod\n",
    "    def _indent_node(cls, value='', level=0):\n",
    "        \"\"\"\n",
    "        Prepares a string indented to reflect the level of the current node in the tree. \n",
    "        :param value: the text, if available, to include after the indentation\n",
    "        :param level: an integer to reflect the level (or depth) in the tree and the indentation required for the node\n",
    "        :return: string containing enough indentation chars (usually spaces) followed by a text value if available\n",
    "        \"\"\"\n",
    "        return \"\".join([cls.indent_placeholder for _ in range(0, level)]) + value\n",
    "\n",
    "    def add_left(self, child):\n",
    "        self.left_child = child\n",
    "\n",
    "    def add_right(self, child):\n",
    "        self.right_child = child\n",
    "        \n",
    "    def find_node(self, value):\n",
    "        \"\"\"\n",
    "        Return the (first) node that has the corresponding value, starting from the current node\n",
    "        and then traversing child nodes.\n",
    "        :param value: the value to compare against each node\n",
    "        :return: the node that matches the given value\n",
    "        \"\"\"\n",
    "        if self.value == value:\n",
    "            return self\n",
    "        \n",
    "        for child in [self.left_child, self.right_child]:\n",
    "            node = child.find_node(value) if child else None\n",
    "            if node:\n",
    "                return node\n",
    "        return None\n"
   ]
  },
  {
   "cell_type": "code",
   "execution_count": 119,
   "outputs": [],
   "source": [
    "def find_value(node, value):\n",
    "    found = node.find_node(value)\n",
    "    print(f\"Found {found.value}\" if found else f\"Value {value} not found\")\n"
   ],
   "metadata": {
    "collapsed": false,
    "ExecuteTime": {
     "end_time": "2023-08-11T14:44:11.919568200Z",
     "start_time": "2023-08-11T14:44:11.888308500Z"
    }
   },
   "id": "9e39461d4bcaaf0b"
  },
  {
   "cell_type": "code",
   "execution_count": 120,
   "outputs": [
    {
     "name": "stdout",
     "output_type": "stream",
     "text": [
      "Root:\n",
      "  A:\n",
      "    C:\n",
      "    D:\n",
      "  B:\n",
      "    None\n",
      "    E:\n",
      "      F:\n",
      "      None\n"
     ]
    }
   ],
   "source": [
    "root = BinaryNode('Root')\n",
    "a = BinaryNode('A')\n",
    "root.add_left(a)\n",
    "b = BinaryNode('B')\n",
    "root.add_right(b)\n",
    "c = BinaryNode('C')\n",
    "a.add_left(c)\n",
    "d = BinaryNode('D')\n",
    "a.add_right(d)\n",
    "e = BinaryNode('E')\n",
    "b.add_right(e)\n",
    "f = BinaryNode('F')\n",
    "e.add_left(f)\n",
    "\n",
    "print(root)\n"
   ],
   "metadata": {
    "collapsed": false,
    "ExecuteTime": {
     "end_time": "2023-08-11T14:44:11.919568200Z",
     "start_time": "2023-08-11T14:44:11.903923700Z"
    }
   },
   "id": "9caca8f0f0696839"
  },
  {
   "cell_type": "code",
   "execution_count": 121,
   "outputs": [
    {
     "name": "stdout",
     "output_type": "stream",
     "text": [
      "A:\n",
      "  C:\n",
      "  D:\n"
     ]
    }
   ],
   "source": [
    "print(a)"
   ],
   "metadata": {
    "collapsed": false,
    "ExecuteTime": {
     "end_time": "2023-08-11T14:44:11.950801600Z",
     "start_time": "2023-08-11T14:44:11.919568200Z"
    }
   },
   "id": "c4dbbb501a52f5ee"
  },
  {
   "cell_type": "code",
   "execution_count": 122,
   "outputs": [
    {
     "name": "stdout",
     "output_type": "stream",
     "text": [
      "Found Root\n",
      "Found E\n",
      "Found F\n",
      "Value Q not found\n",
      "Found F\n"
     ]
    }
   ],
   "source": [
    "# Find some values.\n",
    "find_value(root, 'Root')\n",
    "find_value(root, 'E')\n",
    "find_value(root, 'F')\n",
    "find_value(root, 'Q')\n",
    "\n",
    "# Find F in the B subtree.\n",
    "find_value(b, 'F')\n"
   ],
   "metadata": {
    "collapsed": false,
    "ExecuteTime": {
     "end_time": "2023-08-11T14:44:12.028925300Z",
     "start_time": "2023-08-11T14:44:11.935177900Z"
    }
   },
   "id": "734a7104cff01b4f"
  }
 ],
 "metadata": {
  "kernelspec": {
   "display_name": "Python 3",
   "language": "python",
   "name": "python3"
  },
  "language_info": {
   "codemirror_mode": {
    "name": "ipython",
    "version": 2
   },
   "file_extension": ".py",
   "mimetype": "text/x-python",
   "name": "python",
   "nbconvert_exporter": "python",
   "pygments_lexer": "ipython2",
   "version": "2.7.6"
  }
 },
 "nbformat": 4,
 "nbformat_minor": 5
}
