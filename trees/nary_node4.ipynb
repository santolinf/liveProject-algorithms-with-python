{
 "cells": [
  {
   "cell_type": "code",
   "execution_count": 169,
   "id": "initial_id",
   "metadata": {
    "collapsed": true,
    "ExecuteTime": {
     "end_time": "2023-08-11T17:27:47.477021100Z",
     "start_time": "2023-08-11T17:27:47.430138900Z"
    }
   },
   "outputs": [],
   "source": [
    "class NaryNode:\n",
    "    indent_placeholder = '  '\n",
    "\n",
    "    def __init__(self, value=''):\n",
    "        self.value = value\n",
    "        self.children = []\n",
    "\n",
    "    def __str__(self, level=0):\n",
    "        return (\n",
    "            f\"{self._indent_node(self.value, level=level)}:\\n\"\n",
    "            f\"{''.join([child.__str__(level=level+1) for child in self.children])}\"\n",
    "        )\n",
    "\n",
    "    @classmethod\n",
    "    def _indent_node(cls, value='', level=0):\n",
    "        \"\"\"\n",
    "        Prepares a string indented to reflect the level of the empty child of the current node. \n",
    "        :param value: the text, if available, to include after the indentation \n",
    "        :param level: an integer to reflect the level (or depth) in the tree and the indentation required for the node\n",
    "        :return: string containing enough indentation chars (usually spaces) followed by a text value if available\n",
    "        \"\"\"\n",
    "        return \"\".join([cls.indent_placeholder for _ in range(0, level)]) + value\n",
    "\n",
    "    def add_child(self, child):\n",
    "        self.children.append(child)\n",
    "\n",
    "    def find_node(self, value):\n",
    "        \"\"\"\n",
    "        Return the (first) node that has the corresponding value, starting from the current node\n",
    "        and then traversing child nodes.\n",
    "        :param value: the value to compare against each node\n",
    "        :return: the node that matches the given value\n",
    "        \"\"\"\n",
    "        if self.value == value:\n",
    "            return self\n",
    "        \n",
    "        for child in self.children:\n",
    "            node = child.find_node(value) if child else None\n",
    "            if node:\n",
    "                return node\n",
    "        return None\n",
    "    \n",
    "    def traverse_preorder(self):\n",
    "        nodes = [self]\n",
    "        for c in self.children:\n",
    "            nodes.extend(c.traverse_preorder())\n",
    "        return nodes\n",
    "    \n",
    "    def traverse_postorder(self):\n",
    "        nodes = []\n",
    "        for c in self.children:\n",
    "            nodes.extend(c.traverse_postorder())\n",
    "        nodes.extend([self])\n",
    "        return nodes\n",
    "    \n",
    "    def traverse_breadth_first(self):\n",
    "        result = []\n",
    "        queue = [self]\n",
    "        \n",
    "        while queue:\n",
    "            node = queue.pop(0)\n",
    "            result.append(node)\n",
    "            \n",
    "            for c in node.children:\n",
    "                queue.append(c)\n",
    "                \n",
    "        return result\n",
    "    "
   ]
  },
  {
   "cell_type": "code",
   "execution_count": 170,
   "outputs": [],
   "source": [
    "def find_value(node, value):\n",
    "    found = node.find_node(value)\n",
    "    print(f\"Found {found.value}\" if found else f\"Value {value} not found\")\n"
   ],
   "metadata": {
    "collapsed": false,
    "ExecuteTime": {
     "end_time": "2023-08-11T17:27:47.508308600Z",
     "start_time": "2023-08-11T17:27:47.446237300Z"
    }
   },
   "id": "5f508ea07cbde230"
  },
  {
   "cell_type": "code",
   "execution_count": 171,
   "outputs": [
    {
     "name": "stdout",
     "output_type": "stream",
     "text": [
      "Root:\n",
      "  A:\n",
      "    D:\n",
      "      G:\n",
      "    E:\n",
      "  B:\n",
      "  C:\n",
      "    F:\n",
      "      H:\n",
      "      I:\n"
     ]
    }
   ],
   "source": [
    "root = NaryNode('Root')\n",
    "a = NaryNode('A')\n",
    "root.add_child(a)\n",
    "b = NaryNode('B')\n",
    "root.add_child(b)\n",
    "c = NaryNode('C')\n",
    "root.add_child(c)\n",
    "d = NaryNode('D')\n",
    "a.add_child(d)\n",
    "e = NaryNode('E')\n",
    "a.add_child(e)\n",
    "f = NaryNode('F')\n",
    "c.add_child(f)\n",
    "g = NaryNode('G')\n",
    "d.add_child(g)\n",
    "h = NaryNode('H')\n",
    "f.add_child(h)\n",
    "i = NaryNode('I')\n",
    "f.add_child(i)\n",
    "\n",
    "print(root)\n"
   ],
   "metadata": {
    "collapsed": false,
    "ExecuteTime": {
     "end_time": "2023-08-11T17:27:47.508308600Z",
     "start_time": "2023-08-11T17:27:47.461428400Z"
    }
   },
   "id": "2bfde7c433c92067"
  },
  {
   "cell_type": "code",
   "execution_count": 172,
   "outputs": [
    {
     "name": "stdout",
     "output_type": "stream",
     "text": [
      "A:\n",
      "  D:\n",
      "    G:\n",
      "  E:\n"
     ]
    }
   ],
   "source": [
    "print(a)"
   ],
   "metadata": {
    "collapsed": false,
    "ExecuteTime": {
     "end_time": "2023-08-11T17:27:47.508308600Z",
     "start_time": "2023-08-11T17:27:47.477021100Z"
    }
   },
   "id": "c8aae5e539b21ad9"
  },
  {
   "cell_type": "code",
   "execution_count": 173,
   "outputs": [
    {
     "name": "stdout",
     "output_type": "stream",
     "text": [
      "Found Root\n",
      "Found E\n",
      "Found F\n",
      "Value Q not found\n",
      "Found F\n"
     ]
    }
   ],
   "source": [
    "# Find some values.\n",
    "find_value(root, 'Root')\n",
    "find_value(root, 'E')\n",
    "find_value(root, 'F')\n",
    "find_value(root, 'Q')\n",
    "\n",
    "# Find F in the C subtree.\n",
    "find_value(c, 'F')\n"
   ],
   "metadata": {
    "collapsed": false,
    "ExecuteTime": {
     "end_time": "2023-08-11T17:27:47.508308600Z",
     "start_time": "2023-08-11T17:27:47.492639100Z"
    }
   },
   "id": "ad5e7bb7a523e1a6"
  },
  {
   "cell_type": "code",
   "execution_count": 174,
   "outputs": [
    {
     "name": "stdout",
     "output_type": "stream",
     "text": [
      "Preorder:      Root A D G E B C F H I \n",
      "Postorder:     G D E A B H I F C Root \n",
      "Breadth-First: Root A B C D E F G H I \n"
     ]
    }
   ],
   "source": [
    "print('Preorder:      ', end='')\n",
    "for node in root.traverse_preorder():\n",
    "  print(f'{node.value} ', end='')\n",
    "print()\n",
    "print('Postorder:     ', end='')\n",
    "for node in root.traverse_postorder():\n",
    "  print(f'{node.value} ', end='')\n",
    "print()\n",
    "print('Breadth-First: ', end='')\n",
    "for node in root.traverse_breadth_first():\n",
    "  print(f'{node.value} ', end='')\n",
    "print()"
   ],
   "metadata": {
    "collapsed": false,
    "ExecuteTime": {
     "end_time": "2023-08-11T17:27:47.539521100Z",
     "start_time": "2023-08-11T17:27:47.508308600Z"
    }
   },
   "id": "f654daeab5669ad8"
  }
 ],
 "metadata": {
  "kernelspec": {
   "display_name": "Python 3",
   "language": "python",
   "name": "python3"
  },
  "language_info": {
   "codemirror_mode": {
    "name": "ipython",
    "version": 2
   },
   "file_extension": ".py",
   "mimetype": "text/x-python",
   "name": "python",
   "nbconvert_exporter": "python",
   "pygments_lexer": "ipython2",
   "version": "2.7.6"
  }
 },
 "nbformat": 4,
 "nbformat_minor": 5
}
