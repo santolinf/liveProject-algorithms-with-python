{
 "cells": [
  {
   "cell_type": "code",
   "execution_count": 81,
   "id": "initial_id",
   "metadata": {
    "collapsed": true,
    "ExecuteTime": {
     "end_time": "2023-09-24T06:48:38.050774900Z",
     "start_time": "2023-09-24T06:48:38.019535700Z"
    }
   },
   "outputs": [],
   "source": [
    "import tkinter as tk\n",
    "from tkinter import messagebox\n",
    "from tkinter import filedialog"
   ]
  },
  {
   "cell_type": "code",
   "execution_count": 82,
   "outputs": [],
   "source": [
    "class Task:\n",
    "    def __init__(self, index, name, prereq_numbers):\n",
    "        self.index = index\n",
    "        self.name = name\n",
    "        self.prereq_numbers = prereq_numbers\n",
    "        \n",
    "    def __str__(self):\n",
    "        return self.name\n",
    "    \n",
    "    def numbers_to_tasks(self, tasks):\n",
    "        self.prereq_tasks = []\n",
    "        for number in self.prereq_numbers:\n",
    "            self.prereq_tasks.append(tasks[number])\n"
   ],
   "metadata": {
    "collapsed": false,
    "ExecuteTime": {
     "end_time": "2023-09-24T06:48:38.050774900Z",
     "start_time": "2023-09-24T06:48:38.035210600Z"
    }
   },
   "id": "1531735397724fb3"
  },
  {
   "cell_type": "code",
   "execution_count": 83,
   "outputs": [],
   "source": [
    "class PoSorter:\n",
    "    def __init__(self):\n",
    "        self.tasks: list[Task] = []\n",
    "        \n",
    "    def topo_sort(self):\n",
    "        # Initialise the tasks\n",
    "        for task in self.tasks:\n",
    "            task.followers = []\n",
    "        # Give each task a followers list that holds references to the tasks that\n",
    "        # must follow it. i.e., this task is a pre req for tasks in the followers list.\n",
    "        for task in self.tasks:\n",
    "            for prereq_task in task.prereq_tasks:\n",
    "                prereq_task.followers.append(task)\n",
    "            task.prereq_count = len(task.prereq_tasks)\n",
    "        \n",
    "        ready_tasks = []\n",
    "        \n",
    "        # Add tasks with no prerequisites to ready_tasks\n",
    "        for task in self.tasks:\n",
    "            if task.prereq_count == 0:\n",
    "                ready_tasks.append(task)\n",
    "\n",
    "        self.sorted_tasks = []\n",
    "        \n",
    "        while ready_tasks:\n",
    "            task = ready_tasks.pop(0)\n",
    "            self.sorted_tasks.append(task)\n",
    "            \n",
    "            # Loop through task's followers\n",
    "            for follower in task.followers:\n",
    "                # Decrement the follower's prereq_count\n",
    "                follower.prereq_count -= 1\n",
    "                # if the follower's prereq_count is now 0, add it to the ready_task\n",
    "                if follower.prereq_count == 0:\n",
    "                    ready_tasks.append(follower)\n",
    "    \n",
    "    def verify_sort(self):\n",
    "        tasks_successfully_sorted = 0\n",
    "        for task in self.sorted_tasks:\n",
    "            if all(i < self.sorted_tasks.index(task) for i in [self.sorted_tasks.index(p) for p in task.prereq_tasks]):\n",
    "                tasks_successfully_sorted += 1\n",
    "            else:\n",
    "                return f\"Task {task} should not come before any of its pre-requisite tasks.\"\n",
    "        return f\"Successfully sorted {tasks_successfully_sorted} out of {len(self.tasks)} tasks.\"\n",
    "    \n",
    "    @staticmethod\n",
    "    def read_task(file_handle) -> Task:\n",
    "        import re\n",
    "        while task_line := file_handle.readline():\n",
    "            pattern = re.compile('^\\s*([\\d]+),([^,]+),\\s*\\[(.*)\\]\\s*$')\n",
    "            matcher = pattern.match(task_line)\n",
    "            if matcher:\n",
    "                index = matcher.group(1).strip()\n",
    "                task_name = matcher.group(2).strip()\n",
    "                prereq_numbers = matcher.group(3).strip().split(',')\n",
    "                prereq_numbers = [int(n) for n in prereq_numbers if n]\n",
    "                return Task(index, task_name, prereq_numbers)\n",
    "    \n",
    "    def load_po_file(self, filename):\n",
    "        self.tasks = []\n",
    "        with open(filename) as file_handle:\n",
    "            while task := self.read_task(file_handle):\n",
    "                self.tasks.append(task)\n",
    "                \n",
    "        for task in self.tasks:\n",
    "            task.numbers_to_tasks(self.tasks)\n"
   ],
   "metadata": {
    "collapsed": false,
    "ExecuteTime": {
     "end_time": "2023-09-24T06:48:38.082025400Z",
     "start_time": "2023-09-24T06:48:38.050774900Z"
    }
   },
   "id": "a3fdd2d14fc19053"
  },
  {
   "cell_type": "code",
   "execution_count": 84,
   "outputs": [],
   "source": [
    "class App:\n",
    "    # Create and manage the tkinter interface.\n",
    "    def __init__(self):\n",
    "        self.sorter = PoSorter()\n",
    "        \n",
    "        # Make the main interface\n",
    "        self.window = tk.Tk()\n",
    "        self.window.title('topological_sorting')\n",
    "        self.window.protocol('WM_DELETE_WINDOW', self.kill_callback)\n",
    "        self.window.geometry('400x300')\n",
    "        \n",
    "        # Build the menu.\n",
    "        self.menubar = tk.Menu(self.window)\n",
    "        self.menu_file = tk.Menu(self.window, tearoff=False)\n",
    "        self.menu_file.add_command(label='Open...', command=self.open_po, accelerator='Ctrl+O')\n",
    "        self.menu_file.add_separator()\n",
    "        self.menu_file.add_command(label='Exit', command=self.kill_callback)\n",
    "        self.menubar.add_cascade(label='File', menu=self.menu_file)\n",
    "        self.window.config(menu=self.menubar)\n",
    "        \n",
    "        # Build the item lists.\n",
    "        frame = tk.Frame(self.window)\n",
    "        frame.pack(padx=10, pady=(0, 10), side=tk.BOTTOM, fill=tk.BOTH, expand=True)\n",
    "        frame.columnconfigure(1, weight=1)\n",
    "        frame.columnconfigure(3, weight=1)\n",
    "        frame.rowconfigure(1, weight=1)\n",
    "        \n",
    "        # Unsorted list.\n",
    "        inner_frame = tk.Frame(frame)\n",
    "        inner_frame.grid(row=1, column=1, padx=3, pady=3, sticky='nsew')\n",
    "        inner_frame.columnconfigure(1, weight=1)\n",
    "        inner_frame.rowconfigure(1, weight=1)\n",
    "        self.unordered_list = tk.Listbox(inner_frame)\n",
    "        self.unordered_list.grid(row=1, column=1, sticky='nsew')\n",
    "        scrollbar = tk.Scrollbar(inner_frame)\n",
    "        scrollbar.grid(row=1, column=2, sticky='nse')\n",
    "        self.unordered_list.config(yscrollcommand=scrollbar.set)\n",
    "        scrollbar.config(command=self.unordered_list.yview)\n",
    "        \n",
    "        # Sort button.\n",
    "        sort_button = tk.Button(frame, text='Sort', width=6, command=self.sort)\n",
    "        sort_button.grid(row=1, column=2, padx=3)\n",
    "        \n",
    "        # Sorted list.\n",
    "        inner_frame = tk.Frame(frame)\n",
    "        inner_frame.grid(row=1, column=3, padx=3, pady=3, sticky='nsew')\n",
    "        inner_frame.columnconfigure(1, weight=1)\n",
    "        inner_frame.rowconfigure(1, weight=1)\n",
    "        self.ordered_list = tk.Listbox(inner_frame)\n",
    "        self.ordered_list.grid(row=1, column=1, sticky='nsew')\n",
    "        scrollbar = tk.Scrollbar(inner_frame)\n",
    "        scrollbar.grid(row=1, column=2, sticky='nse')\n",
    "        self.ordered_list.config(yscrollcommand=scrollbar.set)\n",
    "        scrollbar.config(command=self.ordered_list.yview)\n",
    "        \n",
    "        self.window.bind('<Control-o>', self.ctrl_o_pressed)\n",
    "        \n",
    "        # Display the window.\n",
    "        self.window.focus_force()\n",
    "        self.window.mainloop()\n",
    "        \n",
    "    def kill_callback(self):\n",
    "        self.window.destroy()\n",
    "        \n",
    "    def ctrl_o_pressed(self, event):\n",
    "        self.open_po()\n",
    "    def open_po(self):\n",
    "        file_types = [('Partial Ordering', '*.po')]\n",
    "        filename = filedialog.askopenfilename(\n",
    "            defaultextension='.po',\n",
    "            filetypes=file_types,\n",
    "            initialdir='.',\n",
    "            title='Open Partial Ordering'\n",
    "        )\n",
    "        if not filename: return\n",
    "        \n",
    "        self.unordered_list.delete(0, 'end')\n",
    "        self.ordered_list.delete(0, 'end')\n",
    "        self.sorter.load_po_file(filename)\n",
    "        self.unordered_list.insert('end', *self.sorter.tasks)\n",
    "        \n",
    "    def sort(self):\n",
    "        self.sorter.topo_sort()\n",
    "        self.ordered_list.insert('end', *self.sorter.sorted_tasks)\n",
    "        messagebox.showinfo('Sort Result', self.sorter.verify_sort())\n"
   ],
   "metadata": {
    "collapsed": false,
    "ExecuteTime": {
     "end_time": "2023-09-24T06:48:38.113514100Z",
     "start_time": "2023-09-24T06:48:38.097648900Z"
    }
   },
   "id": "4d7794b365575f8e"
  },
  {
   "cell_type": "code",
   "execution_count": 85,
   "outputs": [
    {
     "data": {
      "text/plain": "<__main__.App at 0x216fb9ad1e0>"
     },
     "execution_count": 85,
     "metadata": {},
     "output_type": "execute_result"
    }
   ],
   "source": [
    "App()"
   ],
   "metadata": {
    "collapsed": false,
    "ExecuteTime": {
     "end_time": "2023-09-24T06:48:40.380003900Z",
     "start_time": "2023-09-24T06:48:38.113514100Z"
    }
   },
   "id": "ebca41c9e9bf5a63"
  }
 ],
 "metadata": {
  "kernelspec": {
   "display_name": "Python 3",
   "language": "python",
   "name": "python3"
  },
  "language_info": {
   "codemirror_mode": {
    "name": "ipython",
    "version": 2
   },
   "file_extension": ".py",
   "mimetype": "text/x-python",
   "name": "python",
   "nbconvert_exporter": "python",
   "pygments_lexer": "ipython2",
   "version": "2.7.6"
  }
 },
 "nbformat": 4,
 "nbformat_minor": 5
}
